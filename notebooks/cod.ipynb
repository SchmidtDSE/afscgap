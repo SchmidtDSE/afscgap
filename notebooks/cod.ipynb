{
 "cells": [
  {
   "cell_type": "markdown",
   "id": "976087a0",
   "metadata": {},
   "source": [
    "# Cod AFSC GAP Example\n",
    "Focusing on the Gulf of Alaska, this example \"tutorial\" notebook demonstrates a practical example of using the Python [afscgap](https://pyafscgap.org) library, both in simple usage and with [zero catch record inference](https://pyafscgap.org/docs/inference/) enabled. It uses these tools to investigate a major stock decrease for Pacific cod (Gadus macrocephalus) after a warming event called \"The Blob\" which took place from 2014 to 2016.\n",
    "\n",
    "**[A Samuel Pottinger](https://gleap.org)**  \n",
    "**2023-03-03** (Updated 2025-01-08)  \n",
    "**[UC Berkeley](https://dse.berkeley.edu/)**  \n",
    "\n",
    "![Picture of a large ship in the Gulf of Alaska](https://pyafscgap.org/community/kodiak.jpg)\n",
    "\n",
    "Image: [Old Womans Bay, Kodiak - Mountainous island in the distance](https://www.flickr.com/photos/95525894@N02/8714889934) by [alexaleutians](https://www.flickr.com/photos/95525894@N02) is licensed under [CC BY 2.0](https://creativecommons.org/licenses/by/2.0/?ref=openverse)."
   ]
  },
  {
   "cell_type": "markdown",
   "id": "aff24200",
   "metadata": {},
   "source": [
    "<br>\n",
    "\n",
    "## Summary / Abstract\n",
    "\n",
    "To demonstrate the use of the `afscgap` Python library and provide a community tutorial, this notebook looks at a sharp decline in Pacific cod (Gadus macrocephalus) presence in the Gulf of Alaska before and after \"The Blob\" heating event. To facilitate this comparison, it looks at 2013 vs 2021. Using data from [NOAA AFSC GAP](https://www.fisheries.noaa.gov/foss/f?p=215:28), this notebook finds further confirmatory evidence of that [well documented species decline](https://www.npr.org/2019/12/08/785634169/alaska-cod-fishery-closes-and-industry-braces-for-ripple-effect) with geospatial visualizations showing areas of reduced catch during bottom trawl surveys. Furthermore, this work finds that reduced stock still persists despite the warming event having \"ended\" some years prior. Altogether, this notebook joins other anlysis in warning of ecological and economic threats in the area caused by climate change."
   ]
  },
  {
   "cell_type": "code",
   "execution_count": 1,
   "id": "3952d6a5",
   "metadata": {},
   "outputs": [],
   "source": [
    "YEARS_AVAILABLE = [1993, 1996, 1999, 2001, 2003, 2005, 2007, 2009, 2011, 2013, 2015, 2017, 2019, 2021, 2023]"
   ]
  },
  {
   "cell_type": "markdown",
   "id": "b3c320b9",
   "metadata": {},
   "source": [
    "Users may consider, after running the notebook with these default parameters, trying different values and re-running to see how results change. These high level constants control aggregation, visualization, and query parameters:"
   ]
  },
  {
   "cell_type": "code",
   "execution_count": 2,
   "id": "74d8fe7a",
   "metadata": {},
   "outputs": [],
   "source": [
    "MAX_POINT_AREA = 1000\n",
    "GEOHASH_SIZE = 4\n",
    "BEFORE_YEAR = 2013\n",
    "AFTER_YEAR = 2021\n",
    "SPECIES = 'Gadus macrocephalus'\n",
    "P_THRESHOLD = 0.05"
   ]
  },
  {
   "cell_type": "markdown",
   "id": "cb01d278",
   "metadata": {},
   "source": [
    "To ensure validity of these constants, some simple checks are made."
   ]
  },
  {
   "cell_type": "code",
   "execution_count": 3,
   "id": "a32d5a2a",
   "metadata": {},
   "outputs": [],
   "source": [
    "assert BEFORE_YEAR in YEARS_AVAILABLE\n",
    "assert AFTER_YEAR in YEARS_AVAILABLE"
   ]
  },
  {
   "cell_type": "markdown",
   "id": "8dcf6d73",
   "metadata": {},
   "source": [
    "Thanks to [Color Brewer 2](https://colorbrewer2.org/#type=sequential&scheme=BuGn&n=3) for help with these color-deficient-safe colors:"
   ]
  },
  {
   "cell_type": "code",
   "execution_count": 4,
   "id": "df696b23",
   "metadata": {},
   "outputs": [],
   "source": [
    "BEFORE_COLOR = '#33a02c80'\n",
    "AFTER_COLOR = '#1f78b480'"
   ]
  },
  {
   "cell_type": "markdown",
   "id": "0c8baddc",
   "metadata": {},
   "source": [
    "<br>\n",
    "\n",
    "## Background\n",
    "\n",
    "[Gadus macrocephalus (pacific cod)](https://en.wikipedia.org/wiki/Pacific_cod) are a [particularly valuable species for fisheries](https://www.fisheries.noaa.gov/feature-story/tracking-cod-aleutian-islands). However, [their stock numbers saw a decline in the Gulf of Alaska](https://www.npr.org/2019/12/08/785634169/alaska-cod-fishery-closes-and-industry-braces-for-ripple-effect). In particular, the so called \"Blob\" heating event saw major temperature increases. This had major impact on the region and [prior work shows that this temperature increase may have had negative impact on spawning habitat](https://cdnsciencepub.com/doi/full/10.1139/cjfas-2019-0238). Regardless, this event ultimately caused the federal cod fishery to close for the 2020 season with concerns that continued climate change will further stress the species in the future. For more information, see a [related blog series from Ben Laurel at NOAA Fisheries](https://www.fisheries.noaa.gov/science-blog/young-fish-provide-clues-future-pacific-cod-stock-size-post-1).\n",
    "\n",
    "![Picture of Pacific Cod](https://pyafscgap.org/community/cod_image_noaa_public.jpg)\n",
    "\n",
    "Image: [Pacific Cod](https://www.fisheries.noaa.gov/species/pacific-cod) by NOAA."
   ]
  },
  {
   "cell_type": "markdown",
   "id": "160ff7d4",
   "metadata": {},
   "source": [
    "The later parts of this notebook provide a more rigerous analysis but investigation can simply start by looking at the number of cod specimen found before and after the blob in the Gulf of Alaska. This also provides a simplistic example of `afscgap` before getting into more advanced use cases."
   ]
  },
  {
   "cell_type": "code",
   "execution_count": 5,
   "id": "6aedceff",
   "metadata": {},
   "outputs": [],
   "source": [
    "import afscgap"
   ]
  },
  {
   "cell_type": "code",
   "execution_count": 6,
   "id": "d260274b",
   "metadata": {},
   "outputs": [
    {
     "data": {
      "text/plain": [
       "<afscgap.Query at 0x7c1e786b4e80>"
      ]
     },
     "execution_count": 6,
     "metadata": {},
     "output_type": "execute_result"
    }
   ],
   "source": [
    "query = afscgap.Query()\n",
    "query.filter_srvy(eq='GOA')\n",
    "query.filter_scientific_name(eq=SPECIES)"
   ]
  },
  {
   "cell_type": "markdown",
   "id": "75975a1b",
   "metadata": {},
   "source": [
    "This notebook uses two executions: one with `BEFORE_YEAR` and one with `AFTER_YEAR`. This next snippet filters and executes for the first year. This will query a bit of data so it might take a moment."
   ]
  },
  {
   "cell_type": "code",
   "execution_count": 7,
   "id": "b5abf34c",
   "metadata": {},
   "outputs": [],
   "source": [
    "query.filter_year(eq=BEFORE_YEAR)\n",
    "results_before = query.execute()"
   ]
  },
  {
   "cell_type": "markdown",
   "id": "ee76b46c",
   "metadata": {},
   "source": [
    "Next, an execution for the second year."
   ]
  },
  {
   "cell_type": "code",
   "execution_count": 8,
   "id": "b0cf526c",
   "metadata": {},
   "outputs": [],
   "source": [
    "query.filter_year(eq=AFTER_YEAR)\n",
    "results_after = query.execute()"
   ]
  },
  {
   "cell_type": "markdown",
   "id": "7b83d34c",
   "metadata": {},
   "source": [
    "Query's `execute` uses the latest provided values at the time it is called. In other words, calling `filter_year` a second time overwrites the year filter created by the first call to `filter_year`. This lets one use the same Query object to make multiple related searches without needing to re-specify all of the filters from scratch. Regardless, with these two result sets in place, the notebook can get the overall counts."
   ]
  },
  {
   "cell_type": "code",
   "execution_count": 9,
   "id": "337fbcdb",
   "metadata": {},
   "outputs": [],
   "source": [
    "count_before = sum(map(lambda x: x.get_count(), results_before))\n",
    "count_after = sum(map(lambda x: x.get_count(), results_after))"
   ]
  },
  {
   "cell_type": "code",
   "execution_count": 10,
   "id": "35cb0066",
   "metadata": {},
   "outputs": [
    {
     "name": "stdout",
     "output_type": "stream",
     "text": [
      "16972 specimen found in 2013 and 4013 specimen found in 2021\n"
     ]
    }
   ],
   "source": [
    "template_vals = (count_before, BEFORE_YEAR, count_after, AFTER_YEAR)\n",
    "template = '%.0f specimen found in %d and %.0f specimen found in %d'\n",
    "print(template % template_vals)"
   ]
  },
  {
   "cell_type": "markdown",
   "id": "7bc6f841",
   "metadata": {},
   "source": [
    "<br>\n",
    "\n",
    "## Method\n",
    "\n",
    "While the overall count provides an interesting starting point, each year's survey may not look at exactly the same areas. Therefore, this notebook demonstrates use of [afscgap](https://pyafscgap.org) by plotting [Gadus macrocephalus (pacific cod)](https://en.wikipedia.org/wiki/Pacific_cod) in the Gulf of Alaska after normalizing weight by area swept. It leverages a modern stack:\n",
    "\n",
    " - [geolib](https://pypi.org/project/geolib/) to aggregate by [geohash](https://en.wikipedia.org/wiki/Geohash)\n",
    " - Plots via [Cartopy](https://pypi.org/project/Cartopy/) and [Matplotlib](https://matplotlib.org/).\n",
    " - Manipulation via [Pandas](https://pandas.pydata.org/).\n",
    " - Statistical test by [scipy.stats](https://docs.scipy.org/doc/scipy/reference/stats.html).\n",
    "\n",
    "It does this to show how to work with these data, both in a memory efficient way prior to aggregation by geohash where the dataset is quite large and when the data fit into a more \"typical\" data frame. Specifically, weight and area swept are aggregated by geohash to get a map of overall catch weight per unit effort across the Gulf of Alaska before plotting some summary statistics and executing a statistical test."
   ]
  },
  {
   "cell_type": "code",
   "execution_count": 11,
   "id": "38a30901",
   "metadata": {},
   "outputs": [],
   "source": [
    "import copy\n",
    "import math\n",
    "\n",
    "import cartopy.crs\n",
    "import geolib.geohash\n",
    "import matplotlib.pyplot\n",
    "import pandas\n",
    "import scipy.stats"
   ]
  },
  {
   "cell_type": "markdown",
   "id": "eb22adc7",
   "metadata": {},
   "source": [
    "#### Query\n",
    "\n",
    "This notebook next offers a method to execute a query for a given year. Note that this uses `set_presence_only(False)`. This enables [zero catch record inference](https://pyafscgap.org/docs/inference/) and is necessary in this case becuase the official API service will get \"presence-only\" data that, while much more compact, can't report on hauls when the species of interest was not found."
   ]
  },
  {
   "cell_type": "code",
   "execution_count": 12,
   "id": "5f083c81",
   "metadata": {},
   "outputs": [],
   "source": [
    "def make_query(year):\n",
    "    query = afscgap.Query()\n",
    "    query.filter_srvy(eq='GOA')\n",
    "    query.filter_year(eq=year)\n",
    "    query.filter_scientific_name(eq=SPECIES)\n",
    "    query.set_presence_only(False)\n",
    "    query.set_suppress_large_warning(True)\n",
    "    results = query.execute()\n",
    "    \n",
    "    simplified_results = map(simplify_record, results)\n",
    "    aggregated_results = aggregate_geohashes(simplified_results)\n",
    "    return aggregated_results"
   ]
  },
  {
   "cell_type": "markdown",
   "id": "c254e33b",
   "metadata": {},
   "source": [
    "To understand the need for this feature consider that this notebook aims to, per [geohash](https://www.pubnub.com/learn/glossary/what-is-geohashing/), get total weight of species of interest divided by total area swept. However, notice that it must include area swept for all hauls in an area. The official NOAA AFSC GAP API on its own [does not yield records for a species in a haul if no specimens of that species were found](https://www.fisheries.noaa.gov/foss/f?p=215:28). Therefore, it requires that the `afscgap` library infer hauls without the species of interest found. It does this by comparing results from the official API service to a metadata record of all hauls conducted."
   ]
  },
  {
   "cell_type": "markdown",
   "id": "b32d7539",
   "metadata": {},
   "source": [
    "#### Aggregation and simplification"
   ]
  },
  {
   "cell_type": "markdown",
   "id": "6d88bbfd",
   "metadata": {},
   "source": [
    "This noteboook simplifies the [Record objects](https://pyafscgap.org/devdocs/afscgap/model.html#Record) returned by afscgap, taking a small subset of their data and putting them into dictionaries as they are returned from the library along with a [geohash](https://www.pubnub.com/learn/glossary/what-is-geohashing/)."
   ]
  },
  {
   "cell_type": "code",
   "execution_count": 13,
   "id": "69f9f051",
   "metadata": {},
   "outputs": [],
   "source": [
    "def simplify_record(full_record):\n",
    "    latitude = full_record.get_latitude(units='dd')\n",
    "    \n",
    "    longitude = full_record.get_longitude(units='dd')\n",
    "    if longitude > 0:\n",
    "        longitude = longitude * -1\n",
    "    \n",
    "    return {\n",
    "        'geohash': geolib.geohash.encode(latitude, longitude, GEOHASH_SIZE),\n",
    "        'area': full_record.get_area_swept(units='ha'),\n",
    "        'weight': full_record.get_weight(units='kg')\n",
    "    }"
   ]
  },
  {
   "cell_type": "markdown",
   "id": "def08b6f",
   "metadata": {},
   "source": [
    "This notebook aggregates data, collecting into a dictionary. This reduces memory load because information is streamed in but, instead of maintaining individual records per haul, summarizes those data by geohash as they become available. This avoids loading the entire dataset in memory."
   ]
  },
  {
   "cell_type": "code",
   "execution_count": 14,
   "id": "476f7a27",
   "metadata": {},
   "outputs": [],
   "source": [
    "def aggregate_geohashes(results):\n",
    "    results_agg = {}\n",
    "    \n",
    "    for result in results:\n",
    "        geohash = result['geohash']\n",
    "        \n",
    "        if geohash not in results_agg:\n",
    "            results_agg[geohash] = {\n",
    "                'geohash': geohash,\n",
    "                'area': 0,\n",
    "                'weight': 0\n",
    "            }\n",
    "        \n",
    "        results_agg[geohash]['area'] += result['area']\n",
    "        results_agg[geohash]['weight'] += result['weight']\n",
    "    \n",
    "    return results_agg.values()"
   ]
  },
  {
   "cell_type": "markdown",
   "id": "afb92ec7",
   "metadata": {},
   "source": [
    "#### Calculate weight per area\n",
    "\n",
    "Next, the notebook needs to calculate weight per area swept."
   ]
  },
  {
   "cell_type": "code",
   "execution_count": 15,
   "id": "bac6fa5a",
   "metadata": {},
   "outputs": [],
   "source": [
    "def summarize_data(target):\n",
    "    point = geolib.geohash.decode(target['geohash'])\n",
    "    \n",
    "    target_copy = copy.deepcopy(target)\n",
    "    target_copy['latitude'] = point[0]\n",
    "    target_copy['longitude'] = point[1]\n",
    "    target_copy['weightPerArea'] = target_copy['weight'] / target['area']\n",
    "    \n",
    "    return target_copy"
   ]
  },
  {
   "cell_type": "markdown",
   "id": "47cd326c",
   "metadata": {},
   "source": [
    "#### Execute statistical test\n",
    "\n",
    "Finally, the notebook looks for geohashes with hauls in both surveys to conduct a [Wilcoxon signed-rank test](https://docs.scipy.org/doc/scipy/reference/generated/scipy.stats.wilcoxon.html). Note that it does this by joining geohashes from the `BEFORE_YEAR` with the geohashes from the `AFTER_YEAR` for pairwise comparison."
   ]
  },
  {
   "cell_type": "code",
   "execution_count": 16,
   "id": "963b38a2",
   "metadata": {},
   "outputs": [],
   "source": [
    "def execute_test(before_data, after_data):\n",
    "    before_data_by_geohash = dict(map(lambda x: (x['geohash'], x), before_data))\n",
    "    after_data_by_geohash = dict(map(lambda x: (x['geohash'], x), after_data))\n",
    "    \n",
    "    before_geohashes = set(before_data_by_geohash.keys())\n",
    "    after_geohashes = set(after_data_by_geohash.keys())\n",
    "    overlap_geohashes = sorted(before_geohashes.intersection(after_geohashes))\n",
    "    \n",
    "    before_weights_by_area = [\n",
    "        before_data_by_geohash[geohash]['weightPerArea'] for geohash in overlap_geohashes\n",
    "    ]\n",
    "    after_weights_by_area = [\n",
    "        after_data_by_geohash[geohash]['weightPerArea'] for geohash in overlap_geohashes\n",
    "    ]\n",
    "    \n",
    "    results = scipy.stats.wilcoxon(\n",
    "        before_weights_by_area,\n",
    "        after_weights_by_area\n",
    "    )\n",
    "    \n",
    "    return {'p': results[1], 'statistic': results[0]}"
   ]
  },
  {
   "cell_type": "markdown",
   "id": "e0899e73",
   "metadata": {},
   "source": [
    "<br>\n",
    "\n",
    "## Results\n",
    "\n",
    "This notebook next downloads data from the two years selected and summarizes using the utility functions."
   ]
  },
  {
   "cell_type": "code",
   "execution_count": 17,
   "id": "7600c7c5",
   "metadata": {},
   "outputs": [],
   "source": [
    "raw_data_by_geohash_before = make_query(BEFORE_YEAR)\n",
    "summarized_data_before = [summarize_data(record) for record in raw_data_by_geohash_before]\n",
    "frame_before = pandas.DataFrame(summarized_data_before)"
   ]
  },
  {
   "cell_type": "code",
   "execution_count": 18,
   "id": "8e780d5d",
   "metadata": {},
   "outputs": [],
   "source": [
    "raw_data_by_geohash_after = make_query(AFTER_YEAR)\n",
    "summarized_data_after = [summarize_data(record) for record in raw_data_by_geohash_after]\n",
    "frame_after = pandas.DataFrame(summarized_data_after)"
   ]
  },
  {
   "cell_type": "markdown",
   "id": "0c9b8a30",
   "metadata": {},
   "source": [
    "With these data in place, the notebook can now turn to examining these results in detail before executing a statistical test."
   ]
  },
  {
   "cell_type": "markdown",
   "id": "594c56be",
   "metadata": {},
   "source": [
    "#### Get totals\n",
    "\n",
    "An easy first step is simply displaying how the overall numbers from the Gulf of Alaska surveyed changed between years adjusting for area swept."
   ]
  },
  {
   "cell_type": "code",
   "execution_count": 19,
   "id": "753b4d74",
   "metadata": {},
   "outputs": [
    {
     "name": "stdout",
     "output_type": "stream",
     "text": [
      "Kilograms of Gadus macrocephalus / hectare from 2013: 19.73\n"
     ]
    }
   ],
   "source": [
    "before_weight_per_hectare = frame_before['weight'].sum() / frame_before['area'].sum()\n",
    "print('Kilograms of %s / hectare from %d: %.2f' %(SPECIES, BEFORE_YEAR, before_weight_per_hectare))"
   ]
  },
  {
   "cell_type": "code",
   "execution_count": 20,
   "id": "c1352f52",
   "metadata": {},
   "outputs": [
    {
     "name": "stdout",
     "output_type": "stream",
     "text": [
      "Kilograms of Gadus macrocephalus / hectare from 2021: 5.93\n"
     ]
    }
   ],
   "source": [
    "after_weight_per_hectare = frame_after['weight'].sum() / frame_after['area'].sum()\n",
    "print('Kilograms of %s / hectare from %d: %.2f' %(SPECIES, AFTER_YEAR, after_weight_per_hectare))"
   ]
  },
  {
   "cell_type": "code",
   "execution_count": 21,
   "id": "be4ccd6e",
   "metadata": {},
   "outputs": [
    {
     "name": "stdout",
     "output_type": "stream",
     "text": [
      "Source of data: AFSC GAP\n"
     ]
    },
    {
     "data": {
      "image/png": "[encoded data removed]",
      "text/plain": [
       "<Figure size 360x360 with 1 Axes>"
      ]
     },
     "metadata": {
      "needs_background": "light"
     },
     "output_type": "display_data"
    }
   ],
   "source": [
    "fig = matplotlib.pyplot.figure(figsize=(5,5))\n",
    "ax = fig.add_subplot(111)\n",
    "bars = ax.bar([str(BEFORE_YEAR), str(AFTER_YEAR)], [before_weight_per_hectare, after_weight_per_hectare])\n",
    "bars[0].set_color(BEFORE_COLOR)\n",
    "bars[1].set_color(AFTER_COLOR)\n",
    "ax.set_title('Change in kg / hectare for %s' % SPECIES)\n",
    "ax.set_xlabel('Year')\n",
    "ax.set_ylabel('kg / hectare')\n",
    "\n",
    "print('Source of data: AFSC GAP')"
   ]
  },
  {
   "cell_type": "markdown",
   "id": "ae5bd084",
   "metadata": {},
   "source": [
    "Comparing 2013 and 2021, there is a large decrease in kg / hectare."
   ]
  },
  {
   "cell_type": "markdown",
   "id": "b1488529",
   "metadata": {},
   "source": [
    "#### Histogram of geohash weight / area swept\n",
    "\n",
    "Next, the notebook can visualize how the distribution of weights / area in terms of geohashes examined differs per year. For convienence, this notebook filters out geohashes with zero catches."
   ]
  },
  {
   "cell_type": "code",
   "execution_count": 22,
   "id": "eced0035",
   "metadata": {},
   "outputs": [],
   "source": [
    "max_value = max([frame_after['weightPerArea'].max(), frame_before['weightPerArea'].max()])"
   ]
  },
  {
   "cell_type": "code",
   "execution_count": null,
   "id": "20b1dff1",
   "metadata": {},
   "outputs": [],
   "source": [
    "fig = matplotlib.pyplot.figure(figsize=(12,6))\n",
    "ax = fig.add_subplot(111)\n",
    "ax.hist(\n",
    "    frame_before['weightPerArea'],\n",
    "    30,\n",
    "    range=[0, max_value],\n",
    "    color=BEFORE_COLOR,\n",
    "    density=True,\n",
    "    label=BEFORE_YEAR\n",
    ")\n",
    "ax.hist(\n",
    "    frame_after['weightPerArea'],\n",
    "    30,\n",
    "    range=[0, max_value],\n",
    "    color=AFTER_COLOR,\n",
    "    density=True,\n",
    "    label=AFTER_YEAR\n",
    ")\n",
    "ax.set_title('Distribution of kg / hectare by geohash for %s' % SPECIES)\n",
    "ax.set_xlabel('kg / hectare')\n",
    "ax.set_ylabel('Density')\n",
    "ax.legend()\n",
    "\n",
    "print('Source of data: AFSC GAP')"
   ]
  },
  {
   "cell_type": "markdown",
   "id": "b03a09f5",
   "metadata": {},
   "source": [
    "Comparing 2013 and 2021, there is a leftward shift in distribution of kg / hectare by geohash examined."
   ]
  },
  {
   "cell_type": "markdown",
   "id": "262f95ef",
   "metadata": {},
   "source": [
    "#### Scaffolding for geographic visualizations\n",
    "\n",
    "This notebook next turns to visualize the weights / area swept but, to facilitate, will calculate the area of dots in a bubble / scatter plot using a scale shared across both years."
   ]
  },
  {
   "cell_type": "code",
   "execution_count": null,
   "id": "c09e024f",
   "metadata": {},
   "outputs": [],
   "source": [
    "def scale_value(target):\n",
    "    return (target / max_value) * MAX_POINT_AREA\n",
    "\n",
    "def unscale_value(target):\n",
    "    return target / MAX_POINT_AREA * max_value"
   ]
  },
  {
   "cell_type": "code",
   "execution_count": null,
   "id": "b9af205f",
   "metadata": {},
   "outputs": [],
   "source": [
    "def render_chart(frames, colors, labels, legend_type):\n",
    "    fig = matplotlib.pyplot.figure(figsize=(15,15))\n",
    "    ax = fig.add_subplot(projection=cartopy.crs.PlateCarree())\n",
    "    ax.coastlines(resolution='50m', color='#A0A0A0', linewidth=1)\n",
    "\n",
    "    # Plot body\n",
    "    def plot_single(frame, color, label):\n",
    "        scatter = ax.scatter(\n",
    "            frame['longitude'],\n",
    "            frame['latitude'],\n",
    "            label=str(label),\n",
    "            s=frame['pointArea'],\n",
    "            c=color,\n",
    "            alpha=0.5\n",
    "        )\n",
    "        \n",
    "        return scatter\n",
    "    \n",
    "    elements = zip(frames, colors, labels)\n",
    "    scatters = [plot_single(*x) for x in elements]\n",
    "    \n",
    "    labels_csv = ', '.join(map(str, labels))\n",
    "    ax.set_title('Distribution (kg / hectare) of %s in %s' % (SPECIES, labels_csv))\n",
    "    \n",
    "    if legend_type == 'area':\n",
    "        scatter = scatters[0]\n",
    "        legend_increment = round(max_value / 4)\n",
    "        legend_indicies = [1, 2, 3, 4]\n",
    "        legend_vals_raw = map(lambda x: int(x * legend_increment), legend_indicies)\n",
    "        legend_vals = [round(x) for x in legend_vals_raw]\n",
    "        lengend_vals_str = ['%d kg / hectare' % x for x in legend_vals]\n",
    "        legend_areas = [scale_value(x) for x in legend_vals]\n",
    "        legend_handles, _ = scatter.legend_elements('sizes', num=legend_areas)\n",
    "        ax.legend(legend_handles, lengend_vals_str, loc='upper left')\n",
    "    elif legend_type == 'color':\n",
    "        ax.legend()\n",
    "\n",
    "    print('Source of data: AFSC GAP')"
   ]
  },
  {
   "cell_type": "code",
   "execution_count": null,
   "id": "2803fab3",
   "metadata": {},
   "outputs": [],
   "source": [
    "frame_before['pointArea'] = frame_before['weightPerArea'].apply(scale_value)\n",
    "frame_after['pointArea'] = frame_after['weightPerArea'].apply(scale_value)"
   ]
  },
  {
   "cell_type": "markdown",
   "id": "aa938aa7",
   "metadata": {},
   "source": [
    "#### Geographic distribution in before year\n",
    "\n",
    "Starting with the earlier \"before\" year, this notebook uses the calculations from before to plot them on a map."
   ]
  },
  {
   "cell_type": "code",
   "execution_count": null,
   "id": "ffeab92b",
   "metadata": {},
   "outputs": [],
   "source": [
    "render_chart([frame_before], ['#33a02c'], [BEFORE_YEAR], 'area')"
   ]
  },
  {
   "cell_type": "markdown",
   "id": "c770c5c0",
   "metadata": {},
   "source": [
    "Note that, in 2013, AFSC GAP saw very large western observations especially near [Kodiak Island](https://en.wikipedia.org/wiki/Kodiak_Island)."
   ]
  },
  {
   "cell_type": "markdown",
   "id": "318963c8",
   "metadata": {},
   "source": [
    "#### Geographic distribution in before year\n",
    "\n",
    "Next, the notebook does the same with the later \"after\" year."
   ]
  },
  {
   "cell_type": "code",
   "execution_count": null,
   "id": "7963307f",
   "metadata": {},
   "outputs": [],
   "source": [
    "render_chart([frame_after], ['#1f78b4'], [AFTER_YEAR], 'none')"
   ]
  },
  {
   "cell_type": "markdown",
   "id": "f6acfb55",
   "metadata": {},
   "source": [
    "Compared to 2013, the large observations near Kodiak Island decrease in 2021 though some larger observations appear in the east. "
   ]
  },
  {
   "cell_type": "markdown",
   "id": "8cc2fbec",
   "metadata": {},
   "source": [
    "#### Geographic distribution in before year\n",
    "\n",
    "Next, the notebook overlays the two years for easier comparison."
   ]
  },
  {
   "cell_type": "code",
   "execution_count": null,
   "id": "d267303a",
   "metadata": {},
   "outputs": [],
   "source": [
    "render_chart([frame_before, frame_after], ['#33a02c', '#1f78b4'], [BEFORE_YEAR, AFTER_YEAR], 'color')"
   ]
  },
  {
   "cell_type": "markdown",
   "id": "4fb66b90",
   "metadata": {},
   "source": [
    "Overlaying the two years together may help highlight the geohashes with dramatically reduced presence in the west."
   ]
  },
  {
   "cell_type": "markdown",
   "id": "d84ed4e3",
   "metadata": {},
   "source": [
    "#### Statistical test\n",
    "\n",
    "Next, this notebook evaluates if the change is statistically significant for overlapping geohashes."
   ]
  },
  {
   "cell_type": "code",
   "execution_count": null,
   "id": "70c212f4",
   "metadata": {},
   "outputs": [],
   "source": [
    "test_results = execute_test(summarized_data_before, summarized_data_after)"
   ]
  },
  {
   "cell_type": "code",
   "execution_count": null,
   "id": "5281ea41",
   "metadata": {},
   "outputs": [],
   "source": [
    "template_vals = (BEFORE_YEAR, AFTER_YEAR, SPECIES, P_THRESHOLD)\n",
    "\n",
    "if test_results['p'] < 0.05:\n",
    "    template = 'Geohashes observed in %d saw significantly different kg / hectare than %d for %s (p < %.2f).'\n",
    "else:\n",
    "    template = 'Geohashes observed in %d not significantly different kg / hectare than %d for %s (p >= %.2f).'\n",
    "\n",
    "message = template % template_vals\n",
    "print(message)"
   ]
  },
  {
   "cell_type": "markdown",
   "id": "951de701",
   "metadata": {},
   "source": [
    "<br>\n",
    "\n",
    "## Discussion\n",
    "\n",
    "This notebook observes a sizable drop in weight normalized by area swept for Pacific cod when comparing 2013 to 2021. Notably, this observes low presence some time after \"The Blob\" warming event, possibly suggesting that the impacts of similar phenomena may last even after the warming itself subsides. Furthermore, this example observes remarkably smaller kg / hectare observations near Kodiak Island when comparing 2013 to 2021. Unfortunately, the slightly elevated 2021 observations in the east may not offset those no longer seen in the west.\n",
    "\n",
    "Of course, these data are not perfect. It's possible that the same species shifted geographically outside the surveyed area or some other difference between the surveys exists to cause lower reporting. Furthermore, aggregation uses a single latitude / longitude point and it remains possible that a haul may spill out of a geohash, causing some approximation in CPUE calculation. Finally, what NOAA reports as a haul is important and some surveys do not record into the hauls record those which yielded no specimens at all of any species. This potentially causes approximation in CPUE depending on the defintion of effort (should it include only hauls which \"successfully\" yielded specimens of any species). However, in combination with [research on mechanistic understanding of Pacific cod reductions due to warming](https://cdnsciencepub.com/doi/full/10.1139/cjfas-2019-0238), the case for warming itself explaining these findings remains strong.\n",
    "\n",
    "Given their importance to human communities along with continued climate change, these results may suggest that a mechanism may exist for similar warming events in the region to inflict not just further ecological but also economic harm to the region.\n",
    "\n",
    "All this in mind, this short exploration ends with a look at sample sizes."
   ]
  },
  {
   "cell_type": "code",
   "execution_count": null,
   "id": "2ac02c3f",
   "metadata": {},
   "outputs": [],
   "source": [
    "def get_frame_sizes(target):\n",
    "    total = target.shape[0]\n",
    "    zero_records = target[target['weightPerArea'] == 0].shape[0]\n",
    "    return {'total': total, 'zeroRecords': zero_records}\n",
    "\n",
    "sizes_before = get_frame_sizes(frame_before)\n",
    "before_params = (BEFORE_YEAR, sizes_before['total'], sizes_before['zeroRecords'])\n",
    "print('%d: %d geohashes of which %d had zero catch' % before_params)\n",
    "\n",
    "sizes_after = get_frame_sizes(frame_after)\n",
    "after_params = (AFTER_YEAR, sizes_after['total'], sizes_after['zeroRecords'])\n",
    "print('%d: %d geohashes of which %d had zero catch' % after_params)"
   ]
  },
  {
   "cell_type": "markdown",
   "id": "436cfa31",
   "metadata": {},
   "source": [
    "Note that those geohashes with zero catch would not have been included without `set_presence_only(False)` which enables zero catch inference."
   ]
  },
  {
   "cell_type": "markdown",
   "id": "da6dc285",
   "metadata": {},
   "source": [
    "<br>\n",
    "\n",
    "## Conclusion\n",
    "\n",
    "This notebook provides an example use of the [afscgap Python library](https://pyafscgap.org) to conduct analysis / visualization of important biological data as demonstrated by examination of Pacific cod (Gadus macrocephalus) declines in the Gulf of Alaska. This \"tutorial notebook\" offers examples both of simple query usage as shown in Background and advanced usage as demonstrated in the Methods section. Furthermore, this work offers a memory-efficient example of working with zero catch inference. Though some confounders may still exist, these data confirm prior work and further emphasize the ecological and economic risk posed by warming in the region. Analysis highlights that threats to the human food system continue to persist in the area with plausible links to climate change."
   ]
  },
  {
   "cell_type": "markdown",
   "id": "aa785b45",
   "metadata": {},
   "source": [
    "<br>\n",
    "\n",
    "## Works Cited\n",
    "\n",
    " - \"AFSC Groundfish and Crab Assessment Program Bottom Trawl Surveys.\" AFSC Gap Survey, NOAA Fisheries, https://www.fisheries.noaa.gov/foss/f?p=215%3A28. \n",
    " - Brewer, Cynthia, and Mark Harrower. \"Colorbrewer 2.0.\" ColorBrewer, The Pennsylvania State University, 3 May 2021, https://colorbrewer2.org/#type=sequential&amp;scheme=BuGn&amp;n=3. \n",
    " - \"Cartopy 0.21.1.\" Introduction - Cartopy 0.21.0 Documentation, British Crown / Cartopy Contributors, 12 Dec. 2022, https://scitools.org.uk/cartopy/docs/latest/. \n",
    " - \"Defined: What Is Geohashing?\" Glossary, PubNub, https://www.pubnub.com/learn/glossary/what-is-geohashing/. \n",
    " - George, Kavitha. \"Alaska Cod Fishery Closes and Industry Braces for Ripple Effect.\" NPR, NPR, 8 Dec. 2019, https://www.npr.org/2019/12/08/785634169/alaska-cod-fishery-closes-and-industry-braces-for-ripple-effect. \n",
    " - Joy, Anu. \"Geolib 1.0.7.\" GitHub, GitHub, 4 May 2019, https://github.com/joyanujoy/geolib.\n",
    " - Laurel, Ben. \"Young Fish Provide Clues to Future Pacific Cod Stock Size - Post 1.\" Science Blog, NOAA Fisheries, 3 July 2018, https://www.fisheries.noaa.gov/science-blog/young-fish-provide-clues-future-pacific-cod-stock-size-post-1. \n",
    " - Laurel, Benjamin J., and Lauren A. Rogers. \"Loss of Spawning Habitat and Prerecruits of Pacific Cod during a Gulf of Alaska Heatwave.\" Canadian Journal of Fisheries and Aquatic Sciences, vol. 77, no. 4, 23 Jan. 2020, pp. 644–650., https://doi.org/10.1139/cjfas-2019-0238. \n",
    " - Lindeman, Alex. \"Old Womans Bay, Kodiak - Mountainous Island in the Distance.\" Flickr, Yahoo!, 6 May 2013, https://www.flickr.com/photos/95525894@N02/8714889934. \n",
    " - \"Pacific Cod.\" Species Directory, NOAA Fisheries, 23 Nov. 2022, https://www.fisheries.noaa.gov/species/pacific-cod. \n",
    " - \"Pacific Cod.\" Wikipedia, Wikimedia Foundation, 26 Feb. 2023, https://en.wikipedia.org/wiki/Pacific_cod. \n",
    " - \"Pandas 1.5.3.\" Pandas, NumFOCUS, 19 Jan. 2023, https://pandas.pydata.org/.\n",
    " - \"Tracking Cod in the Aleutian Islands.\" News, NOAA Fisheries, https://www.fisheries.noaa.gov/feature-story/tracking-cod-aleutian-islands.\n",
    " - Virtanen, Pauli, et al. \"SciPy 1.0: Fundamental Algorithms for Scientific Computing in Python.\" Nature Methods, vol. 17, no. 3, 2020, pp. 261–272., https://doi.org/10.1038/s41592-019-0686-2. "
   ]
  }
 ],
 "metadata": {
  "kernelspec": {
   "display_name": "Python 3 (ipykernel)",
   "language": "python",
   "name": "python3"
  },
  "language_info": {
   "codemirror_mode": {
    "name": "ipython",
    "version": 3
   },
   "file_extension": ".py",
   "mimetype": "text/x-python",
   "name": "python",
   "nbconvert_exporter": "python",
   "pygments_lexer": "ipython3",
   "version": "3.8.10"
  }
 },
 "nbformat": 4,
 "nbformat_minor": 5
}
